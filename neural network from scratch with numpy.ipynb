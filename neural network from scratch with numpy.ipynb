{
  "cells": [
    {
      "cell_type": "markdown",
      "metadata": {},
      "source": [
        "# Neural Network from Scratch with NumPy\n",
        "\n",
        "## Introduction\n",
        "\n",
        "This notebook demonstrates how to build a simple neural network from scratch using only NumPy, without relying on high-level deep learning libraries such as TensorFlow or Keras. The goal is to gain a deeper understanding of the core concepts behind neural networks by implementing each component manually.\n",
        "\n",
        "We will apply our neural network to the MNIST dataset, a classic benchmark for handwritten digit recognition. By the end of this notebook, you will understand how neural networks learn from data and how to implement them from first principles.\n",
        "\n",
        "---\n",
        "\n",
        "## Plan of Action\n",
        "\n",
        "1. **Import Libraries**  \n",
        "   Load all necessary Python libraries (NumPy, Pandas, Matplotlib, etc.).\n",
        "\n",
        "2. **Data Preparation**  \n",
        "   Load the MNIST dataset, shuffle, and split into training, validation, and test sets.\n",
        "\n",
        "3. **Network Initialization**  \n",
        "   Define functions to initialize weights and biases for the neural network.\n",
        "\n",
        "4. **Activation Functions**  \n",
        "   Implement ReLU and softmax activation functions and their derivatives.\n",
        "\n",
        "5. **Forward and Backward Propagation**  \n",
        "   Build functions for forward pass, backward pass, and parameter updates.\n",
        "\n",
        "6. **Utilities**  \n",
        "   Add helper functions for predictions, accuracy, and loss calculation.\n",
        "\n",
        "7. **Training Loop**  \n",
        "   Implement the main training loop with loss and accuracy tracking.\n",
        "\n",
        "8. **Hyperparameter Tuning**  \n",
        "   Experiment with different hidden layer sizes and regularization strengths.\n",
        "\n",
        "9. **Evaluation**  \n",
        "   Evaluate the trained model on validation and test sets.\n",
        "\n",
        "10. **Visualization**  \n",
        "    Plot training metrics and visualize predictions.\n",
        "\n",
        "11. **Model Saving/Loading**  \n",
        "    Save and reload the trained model using pickle."
      ]
    },
    {
      "cell_type": "code",
      "execution_count": 19,
      "metadata": {
        "id": "usLQ8Zt4_lnx"
      },
      "outputs": [],
      "source": [
        "import numpy as np\n",
        "import pandas as pd\n",
        "from matplotlib import pyplot as plt\n",
        "import pickle\n"
      ]
    },
    {
      "cell_type": "code",
      "execution_count": 3,
      "metadata": {
        "id": "lRSmOEEkBcsX"
      },
      "outputs": [],
      "source": [
        "# Load and prepare data\n",
        "data = pd.read_csv('train.csv')\n",
        "data = np.array(data)\n",
        "np.random.shuffle(data)"
      ]
    },
    {
      "cell_type": "code",
      "execution_count": 4,
      "metadata": {
        "id": "2NqAKoU8AfLM"
      },
      "outputs": [],
      "source": [
        "m, n = data.shape\n",
        "data_dev = data[0:1000].T\n",
        "Y_dev = data_dev[0]\n",
        "X_dev = data_dev[1:n] / 255.\n",
        "\n",
        "data_test = data[1000:2000].T\n",
        "Y_test = data_test[0]\n",
        "X_test = data_test[1:n] / 255.\n",
        "\n",
        "data_train = data[2000:m].T\n",
        "Y_train = data_train[0]\n",
        "X_train = data_train[1:n] / 255."
      ]
    },
    {
      "cell_type": "code",
      "execution_count": 5,
      "metadata": {
        "id": "ZspE2yfbBZhk"
      },
      "outputs": [],
      "source": [
        "# Initialization\n",
        "def init_params(hidden_size=10):\n",
        "    W1 = np.random.randn(hidden_size, 784) * np.sqrt(2 / 784)\n",
        "    b1 = np.zeros((hidden_size, 1))\n",
        "    W2 = np.random.randn(10, hidden_size) * np.sqrt(2 / hidden_size)\n",
        "    b2 = np.zeros((10, 1))\n",
        "    return W1, b1, W2, b2"
      ]
    },
    {
      "cell_type": "code",
      "execution_count": 6,
      "metadata": {
        "id": "LR8kUrOBBi2a"
      },
      "outputs": [],
      "source": [
        "# Activations\n",
        "def ReLU(Z): return np.maximum(Z, 0)\n",
        "def ReLU_deriv(Z): return Z > 0\n",
        "def softmax(Z):\n",
        "    Z -= np.max(Z, axis=0, keepdims=True)\n",
        "    exp_Z = np.exp(Z)\n",
        "    return exp_Z / np.sum(exp_Z, axis=0, keepdims=True)\n",
        "def one_hot(Y):\n",
        "    one_hot_Y = np.zeros((Y.size, Y.max() + 1))\n",
        "    one_hot_Y[np.arange(Y.size), Y] = 1\n",
        "    return one_hot_Y.T"
      ]
    },
    {
      "cell_type": "code",
      "execution_count": 7,
      "metadata": {
        "id": "Yc4MmetABkn0"
      },
      "outputs": [],
      "source": [
        "# Forward/Backward\n",
        "def forward_prop(W1, b1, W2, b2, X):\n",
        "    Z1 = W1.dot(X) + b1\n",
        "    A1 = ReLU(Z1)\n",
        "    Z2 = W2.dot(A1) + b2\n",
        "    A2 = softmax(Z2)\n",
        "    return Z1, A1, Z2, A2\n",
        "\n",
        "def backward_prop(Z1, A1, Z2, A2, W1, W2, X, one_hot_Y, lambd):\n",
        "    m = X.shape[1]\n",
        "    dZ2 = A2 - one_hot_Y\n",
        "    dW2 = 1 / m * dZ2.dot(A1.T)\n",
        "    db2 = 1 / m * np.sum(dZ2, axis=1, keepdims=True)\n",
        "    dZ1 = W2.T.dot(dZ2) * ReLU_deriv(Z1)\n",
        "    dW1 = 1 / m * dZ1.dot(X.T) + (lambd / m) * W1\n",
        "    db1 = 1 / m * np.sum(dZ1, axis=1, keepdims=True)\n",
        "    return dW1, db1, dW2, db2\n",
        "\n",
        "def update_params(W1, b1, W2, b2, dW1, db1, dW2, db2, alpha):\n",
        "    W1 -= alpha * dW1\n",
        "    b1 -= alpha * db1\n",
        "    W2 -= alpha * dW2\n",
        "    b2 -= alpha * db2\n",
        "    return W1, b1, W2, b2"
      ]
    },
    {
      "cell_type": "code",
      "execution_count": 8,
      "metadata": {
        "id": "jpaKYXpsBnaC"
      },
      "outputs": [],
      "source": [
        "# Utilities\n",
        "def get_predictions(A2): return np.argmax(A2, 0)\n",
        "def get_accuracy(predictions, Y): return np.sum(predictions == Y) / Y.size\n",
        "def compute_loss(A2, Y):\n",
        "    m = Y.shape[0]\n",
        "    log_likelihood = -np.log(A2[Y, range(m)])\n",
        "    return np.sum(log_likelihood) / m"
      ]
    },
    {
      "cell_type": "code",
      "execution_count": 9,
      "metadata": {
        "id": "vLMAQzjgBpiH"
      },
      "outputs": [],
      "source": [
        "# Training Loop with loss tracking\n",
        "def gradient_descent(X, Y, alpha, iterations, lambd=0, hidden_size=10):\n",
        "    W1, b1, W2, b2 = init_params(hidden_size)\n",
        "    one_hot_Y = one_hot(Y)\n",
        "    acc_list, loss_list = [], []\n",
        "\n",
        "    for i in range(iterations):\n",
        "        Z1, A1, Z2, A2 = forward_prop(W1, b1, W2, b2, X)\n",
        "        loss = compute_loss(A2, Y)\n",
        "        acc = get_accuracy(get_predictions(A2), Y)\n",
        "        acc_list.append(acc)\n",
        "        loss_list.append(loss)\n",
        "\n",
        "        dW1, db1, dW2, db2 = backward_prop(Z1, A1, Z2, A2, W1, W2, X, one_hot_Y, lambd)\n",
        "        W1, b1, W2, b2 = update_params(W1, b1, W2, b2, dW1, db1, dW2, db2, alpha)\n",
        "\n",
        "        if i % 100 == 0:\n",
        "            print(f\"Iter {i}: Acc={acc:.4f}, Loss={loss:.4f}\")\n",
        "    return W1, b1, W2, b2, acc_list, loss_list"
      ]
    },
    {
      "cell_type": "code",
      "execution_count": 10,
      "metadata": {
        "id": "bNl94NGnBrrc"
      },
      "outputs": [],
      "source": [
        "# Evaluation\n",
        "def evaluate_model(W1, b1, W2, b2, X_val, Y_val):\n",
        "    _, _, _, A2 = forward_prop(W1, b1, W2, b2, X_val)\n",
        "    preds = get_predictions(A2)\n",
        "    acc = get_accuracy(preds, Y_val)\n",
        "    print(\"Sample Predictions:\", preds[:10])\n",
        "    print(\"True Labels        :\", Y_val[:10])\n",
        "    return acc"
      ]
    },
    {
      "cell_type": "code",
      "execution_count": 11,
      "metadata": {
        "id": "ubdwQ-NDBtkm"
      },
      "outputs": [],
      "source": [
        "# Plotting\n",
        "def plot_metrics(acc_list, loss_list):\n",
        "    plt.figure(figsize=(14, 5))\n",
        "    plt.subplot(1, 2, 1)\n",
        "    plt.plot(acc_list)\n",
        "    plt.title(\"Training Accuracy\")\n",
        "    plt.xlabel(\"Iterations\")\n",
        "    plt.ylabel(\"Accuracy\")\n",
        "\n",
        "    plt.subplot(1, 2, 2)\n",
        "    plt.plot(loss_list)\n",
        "    plt.title(\"Training Loss\")\n",
        "    plt.xlabel(\"Iterations\")\n",
        "    plt.ylabel(\"Loss\")\n",
        "    plt.tight_layout()\n",
        "    plt.show()"
      ]
    },
    {
      "cell_type": "code",
      "execution_count": 12,
      "metadata": {
        "id": "h40ZTrGRBvQP"
      },
      "outputs": [],
      "source": [
        "# Hyperparameter tuning\n",
        "def find_best_hidden_size(X, Y, X_val, Y_val, alpha, iterations, lambd, hidden_sizes):\n",
        "    best_size, best_acc = None, 0\n",
        "    for size in hidden_sizes:\n",
        "        print(f\"\\nTuning hidden size: {size}\")\n",
        "        W1, b1, W2, b2, _, _ = gradient_descent(X, Y, alpha, iterations, lambd, size)\n",
        "        acc = evaluate_model(W1, b1, W2, b2, X_val, Y_val)\n",
        "        if acc > best_acc:\n",
        "            best_acc, best_size = acc, size\n",
        "    print(f\"\\n✅ Best Hidden Size: {best_size} with Accuracy: {best_acc:.4f}\")\n",
        "    return best_size\n",
        "\n",
        "def find_best_lambda(X, Y, X_val, Y_val, alpha, iterations, lambdas, hidden_size):\n",
        "    best_lambd, best_acc = None, 0\n",
        "    for lambd in lambdas:\n",
        "        print(f\"\\nTuning lambda: {lambd}\")\n",
        "        W1, b1, W2, b2, _, _ = gradient_descent(X, Y, alpha, iterations, lambd, hidden_size)\n",
        "        acc = evaluate_model(W1, b1, W2, b2, X_val, Y_val)\n",
        "        if acc > best_acc:\n",
        "            best_acc, best_lambd = acc, lambd\n",
        "    print(f\"\\n✅ Best Lambda: {best_lambd} with Accuracy: {best_acc:.4f}\")\n",
        "    return best_lambd"
      ]
    },
    {
      "cell_type": "code",
      "execution_count": 13,
      "metadata": {
        "id": "byw6No04Bx_i"
      },
      "outputs": [],
      "source": [
        "# Visual prediction\n",
        "def make_predictions(X, W1, b1, W2, b2):\n",
        "    _, _, _, A2 = forward_prop(W1, b1, W2, b2, X)\n",
        "    return get_predictions(A2)\n",
        "\n",
        "def test_prediction(index, W1, b1, W2, b2):\n",
        "    image = X_train[:, index].reshape(-1, 1)\n",
        "    pred = make_predictions(image, W1, b1, W2, b2)\n",
        "    label = Y_train[index]\n",
        "    print(f\"Prediction: {pred}, Label: {label}\")\n",
        "    plt.imshow(image.reshape(28, 28) * 255, cmap='gray')\n",
        "    plt.show()"
      ]
    },
    {
      "cell_type": "code",
      "execution_count": 14,
      "metadata": {
        "colab": {
          "base_uri": "https://localhost:8080/"
        },
        "id": "Z4tW-L2FBz0W",
        "outputId": "86bcbce2-4594-45ca-d6a8-ea323f8f8c67"
      },
      "outputs": [
        {
          "name": "stdout",
          "output_type": "stream",
          "text": [
            "\n",
            "Tuning hidden size: 64\n",
            "Iter 0: Acc=0.1084, Loss=2.4335\n",
            "Iter 100: Acc=0.8783, Loss=0.4656\n",
            "Iter 200: Acc=0.8980, Loss=0.3655\n",
            "Sample Predictions: [2 4 3 6 3 0 5 9 8 5]\n",
            "True Labels        : [2 4 3 6 3 0 5 9 1 5]\n",
            "\n",
            "Tuning hidden size: 110\n",
            "Iter 0: Acc=0.1056, Loss=2.3427\n",
            "Iter 100: Acc=0.8835, Loss=0.4447\n",
            "Iter 200: Acc=0.9034, Loss=0.3490\n",
            "Sample Predictions: [2 4 3 6 3 0 5 9 8 5]\n",
            "True Labels        : [2 4 3 6 3 0 5 9 1 5]\n",
            "\n",
            "Tuning hidden size: 128\n",
            "Iter 0: Acc=0.1040, Loss=2.3617\n",
            "Iter 100: Acc=0.8828, Loss=0.4531\n",
            "Iter 200: Acc=0.9028, Loss=0.3534\n",
            "Sample Predictions: [2 4 3 6 3 0 5 9 8 5]\n",
            "True Labels        : [2 4 3 6 3 0 5 9 1 5]\n",
            "\n",
            "✅ Best Hidden Size: 110 with Accuracy: 0.9160\n",
            "\n",
            "Tuning lambda: 0\n",
            "Iter 0: Acc=0.0593, Loss=2.4123\n",
            "Iter 100: Acc=0.8829, Loss=0.4520\n",
            "Iter 200: Acc=0.9029, Loss=0.3535\n",
            "Sample Predictions: [2 4 3 6 3 0 5 9 5 5]\n",
            "True Labels        : [2 4 3 6 3 0 5 9 1 5]\n",
            "\n",
            "Tuning lambda: 0.01\n",
            "Iter 0: Acc=0.1224, Loss=2.3478\n",
            "Iter 100: Acc=0.8817, Loss=0.4512\n",
            "Iter 200: Acc=0.9025, Loss=0.3537\n",
            "Sample Predictions: [2 4 3 6 3 0 5 9 8 5]\n",
            "True Labels        : [2 4 3 6 3 0 5 9 1 5]\n",
            "\n",
            "Tuning lambda: 0.1\n",
            "Iter 0: Acc=0.0814, Loss=2.4207\n",
            "Iter 100: Acc=0.8827, Loss=0.4533\n",
            "Iter 200: Acc=0.9029, Loss=0.3528\n",
            "Sample Predictions: [2 4 3 6 3 0 5 9 8 5]\n",
            "True Labels        : [2 4 3 6 3 0 5 9 1 5]\n",
            "\n",
            "✅ Best Lambda: 0.1 with Accuracy: 0.9210\n",
            "Iter 0: Acc=0.1476, Loss=2.3185\n",
            "Iter 100: Acc=0.8820, Loss=0.4567\n",
            "Iter 200: Acc=0.9025, Loss=0.3565\n",
            "Iter 300: Acc=0.9131, Loss=0.3140\n",
            "Iter 400: Acc=0.9201, Loss=0.2871\n"
          ]
        }
      ],
      "source": [
        "# Main execution\n",
        "best_size = find_best_hidden_size(X_train, Y_train, X_dev, Y_dev, alpha=0.1, iterations=300, lambd=0, hidden_sizes=[64, 110, 128])\n",
        "best_lambd = find_best_lambda(X_train, Y_train, X_dev, Y_dev, alpha=0.1, iterations=300, lambdas=[0, 0.01, 0.1], hidden_size=best_size)\n",
        "\n",
        "W1, b1, W2, b2, acc_list, loss_list = gradient_descent(X_train, Y_train, alpha=0.1, iterations=500, lambd=best_lambd, hidden_size=best_size)\n"
      ]
    },
    {
      "cell_type": "code",
      "execution_count": 16,
      "metadata": {
        "colab": {
          "base_uri": "https://localhost:8080/",
          "height": 345
        },
        "id": "Q645lVOQTiyO",
        "outputId": "3ceea1e1-804e-43c3-a98f-58f279ec0401"
      },
      "outputs": [
        {
          "data": {
            "image/png": "[encoded data removed]",
            "text/plain": [
              "<Figure size 1400x500 with 2 Axes>"
            ]
          },
          "metadata": {},
          "output_type": "display_data"
        },
        {
          "data": {
            "text/plain": [
              "<Figure size 640x480 with 0 Axes>"
            ]
          },
          "metadata": {},
          "output_type": "display_data"
        }
      ],
      "source": [
        "# Plot final training metrics\n",
        "plot_metrics(acc_list, loss_list)\n",
        "plt.savefig('training_metrics.png')\n"
      ]
    },
    {
      "cell_type": "code",
      "execution_count": 17,
      "metadata": {
        "colab": {
          "base_uri": "https://localhost:8080/"
        },
        "id": "TcYUBaL2B3vC",
        "outputId": "973d191e-06d9-46ea-ee52-a900f869469e"
      },
      "outputs": [
        {
          "name": "stdout",
          "output_type": "stream",
          "text": [
            "\n",
            "📊 Final Evaluation:\n",
            "Sample Predictions: [2 4 3 6 3 0 5 9 5 5]\n",
            "True Labels        : [2 4 3 6 3 0 5 9 1 5]\n",
            "Dev Accuracy : 0.927\n",
            "Sample Predictions: [6 2 1 0 0 6 4 7 6 9]\n",
            "True Labels        : [6 2 1 0 0 6 4 7 6 9]\n",
            "Test Accuracy: 0.911\n"
          ]
        }
      ],
      "source": [
        "# Evaluate\n",
        "print(\"\\n📊 Final Evaluation:\")\n",
        "print(\"Dev Accuracy :\", evaluate_model(W1, b1, W2, b2, X_dev, Y_dev))\n",
        "print(\"Test Accuracy:\", evaluate_model(W1, b1, W2, b2, X_test, Y_test))\n"
      ]
    },
    {
      "cell_type": "code",
      "execution_count": 18,
      "metadata": {
        "colab": {
          "base_uri": "https://localhost:8080/",
          "height": 1000
        },
        "id": "NwQgYCgRUT3b",
        "outputId": "237831f7-4672-41bf-b483-8d6937f0cbd4"
      },
      "outputs": [
        {
          "name": "stdout",
          "output_type": "stream",
          "text": [
            "Prediction: [7], Label: 7\n"
          ]
        },
        {
          "data": {
            "image/png": "[encoded data removed]",
            "text/plain": [
              "<Figure size 640x480 with 1 Axes>"
            ]
          },
          "metadata": {},
          "output_type": "display_data"
        },
        {
          "name": "stdout",
          "output_type": "stream",
          "text": [
            "Prediction: [0], Label: 0\n"
          ]
        },
        {
          "data": {
            "image/png": "[encoded data removed]",
            "text/plain": [
              "<Figure size 640x480 with 1 Axes>"
            ]
          },
          "metadata": {},
          "output_type": "display_data"
        },
        {
          "name": "stdout",
          "output_type": "stream",
          "text": [
            "Prediction: [6], Label: 6\n"
          ]
        },
        {
          "data": {
            "image/png": "[encoded data removed]",
            "text/plain": [
              "<Figure size 640x480 with 1 Axes>"
            ]
          },
          "metadata": {},
          "output_type": "display_data"
        },
        {
          "name": "stdout",
          "output_type": "stream",
          "text": [
            "Prediction: [4], Label: 4\n"
          ]
        },
        {
          "data": {
            "image/png": "[encoded data removed]",
            "text/plain": [
              "<Figure size 640x480 with 1 Axes>"
            ]
          },
          "metadata": {},
          "output_type": "display_data"
        },
        {
          "name": "stdout",
          "output_type": "stream",
          "text": [
            "Prediction: [4], Label: 4\n"
          ]
        },
        {
          "data": {
            "image/png": "[encoded data removed]",
            "text/plain": [
              "<Figure size 640x480 with 1 Axes>"
            ]
          },
          "metadata": {},
          "output_type": "display_data"
        }
      ],
      "source": [
        "# Visual predictions\n",
        "for i in range(5, 50, 10):\n",
        "    test_prediction(i, W1, b1, W2, b2)"
      ]
    },
    {
      "cell_type": "code",
      "execution_count": 20,
      "metadata": {
        "id": "Mi2DCxegUZMD"
      },
      "outputs": [],
      "source": [
        "import pickle\n",
        "\n",
        "# Save\n",
        "with open('mnist_model.pkl', 'wb') as f:\n",
        "    pickle.dump((W1, b1, W2, b2), f)\n",
        "\n",
        "# Load\n",
        "with open('mnist_model.pkl', 'rb') as f:\n",
        "    W1, b1, W2, b2 = pickle.load(f)\n"
      ]
    },
    {
      "cell_type": "code",
      "execution_count": null,
      "metadata": {
        "id": "PFzkdrmwUyDJ"
      },
      "outputs": [],
      "source": []
    }
  ],
  "metadata": {
    "colab": {
      "provenance": []
    },
    "kernelspec": {
      "display_name": "base",
      "language": "python",
      "name": "python3"
    },
    "language_info": {
      "name": "python",
      "version": "3.12.7"
    }
  },
  "nbformat": 4,
  "nbformat_minor": 0
}
